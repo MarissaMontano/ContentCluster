{
 "cells": [
  {
   "cell_type": "code",
   "execution_count": 56,
   "metadata": {},
   "outputs": [],
   "source": [
    "from selenium import webdriver\n",
    "import json\n",
    "import pandas as pd"
   ]
  },
  {
   "cell_type": "code",
   "execution_count": 43,
   "metadata": {},
   "outputs": [],
   "source": [
    "with open(\"song_titles.json\") as f:\n",
    "    song_titles = json.load(f)"
   ]
  },
  {
   "cell_type": "code",
   "execution_count": 52,
   "metadata": {},
   "outputs": [],
   "source": [
    "song_titles = {k.strip(): v for k, v in song_titles.items()}"
   ]
  },
  {
   "cell_type": "markdown",
   "metadata": {},
   "source": [
    "## Functions"
   ]
  },
  {
   "cell_type": "code",
   "execution_count": 64,
   "metadata": {},
   "outputs": [],
   "source": [
    "def find_lyrics(driver, song_path):\n",
    "    url = \"https://genius.com\" + song_path\n",
    "    driver.get(url)\n",
    "    \n",
    "    lyrics = driver.find_element_by_class_name(\"lyrics\").text\n",
    "    \n",
    "    return lyrics"
   ]
  },
  {
   "cell_type": "markdown",
   "metadata": {},
   "source": [
    "## Main"
   ]
  },
  {
   "cell_type": "code",
   "execution_count": 62,
   "metadata": {},
   "outputs": [],
   "source": [
    "driver = webdriver.Chrome()"
   ]
  },
  {
   "cell_type": "code",
   "execution_count": 60,
   "metadata": {},
   "outputs": [],
   "source": [
    "df = pd.DataFrame(columns=[\"artist\", \"song_title\", \"song_path\", \"lyrics\"])\n"
   ]
  },
  {
   "cell_type": "code",
   "execution_count": 65,
   "metadata": {},
   "outputs": [
    {
     "name": "stdout",
     "output_type": "stream",
     "text": [
      "0 Adele\n"
     ]
    }
   ],
   "source": [
    "index = 0\n",
    "with open(\"start_index.txt\", \"r\") as f:\n",
    "    index = int(f.read())\n",
    "    f.close()\n",
    "    \n",
    "artist_num = 0\n",
    "for artist in song_titles:\n",
    "    print(artist_num, artist)\n",
    "    for title in song_titles[artist]:\n",
    "        song_path = song_titles[artist][title]\n",
    "        lyrics = find_lyrics(driver, song_path)\n",
    "        \n",
    "        df.loc[index] = [artist, title, song_path, lyrics]\n",
    "        index += 1\n",
    "        with open(\"start_index.txt\", \"w+\") as f:\n",
    "            f.write(str(i))\n",
    "            f.loc\n",
    "    \n",
    "    artist_num += 1\n",
    "    break"
   ]
  },
  {
   "cell_type": "code",
   "execution_count": null,
   "metadata": {},
   "outputs": [],
   "source": []
  }
 ],
 "metadata": {
  "kernelspec": {
   "display_name": "Python 3",
   "language": "python",
   "name": "python3"
  },
  "language_info": {
   "codemirror_mode": {
    "name": "ipython",
    "version": 3
   },
   "file_extension": ".py",
   "mimetype": "text/x-python",
   "name": "python",
   "nbconvert_exporter": "python",
   "pygments_lexer": "ipython3",
   "version": "3.7.3"
  }
 },
 "nbformat": 4,
 "nbformat_minor": 4
}
