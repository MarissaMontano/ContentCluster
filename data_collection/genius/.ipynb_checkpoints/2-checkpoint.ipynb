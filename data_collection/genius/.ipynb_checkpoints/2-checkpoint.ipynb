{
 "cells": [
  {
   "cell_type": "code",
   "execution_count": 2,
   "metadata": {},
   "outputs": [],
   "source": [
    "from selenium import webdriver\n",
    "import json"
   ]
  },
  {
   "cell_type": "code",
   "execution_count": 43,
   "metadata": {},
   "outputs": [],
   "source": [
    "with open(\"song_titles.json\") as f:\n",
    "    song_titles = json.load(f)"
   ]
  },
  {
   "cell_type": "code",
   "execution_count": 52,
   "metadata": {},
   "outputs": [],
   "source": [
    "song_titles = {k.strip(): v for k, v in song_titles.items()}"
   ]
  },
  {
   "cell_type": "markdown",
   "metadata": {},
   "source": [
    "## Functions"
   ]
  },
  {
   "cell_type": "code",
   "execution_count": 9,
   "metadata": {},
   "outputs": [],
   "source": [
    "def find_lyrics(driver, song_path):\n",
    "    url = \"https://genius.com\" + song_path\n",
    "    driver.get(url)\n",
    "    \n",
    "    lyrics = driver.find_element_by_class_name(\"lyrics\").text\n",
    "    \n",
    "    return lyrics"
   ]
  },
  {
   "cell_type": "markdown",
   "metadata": {},
   "source": [
    "## Main"
   ]
  },
  {
   "cell_type": "code",
   "execution_count": 2,
   "metadata": {},
   "outputs": [],
   "source": [
    "driver = webdriver.Chrome()"
   ]
  },
  {
   "cell_type": "code",
   "execution_count": 10,
   "metadata": {},
   "outputs": [],
   "source": [
    "song_path = \"/Andy-shauf-the-magician-lyrics\""
   ]
  },
  {
   "cell_type": "code",
   "execution_count": 11,
   "metadata": {},
   "outputs": [
    {
     "data": {
      "text/plain": [
       "'[Verse 1]\\nDo you find\\nIt gets a little easier each time you make it disappear?\\nOh fools, the magician bends the rules\\nAs the crowd watches his every move\\n\\n[Chorus]\\nJust a shaking hand without a concrete plan\\nDoo doo doo doo, doo doo doo\\nDoo doo doo doo, doo doo doo\\nDoo doo doo doo, doo doo doo\\nDoo doo doo doo, doo doo doo\\n\\n[Verse 2]\\nSidesteps to a death-defying feat\\nWait for him to reappear\\nLook close, you’ll see him sweat the most\\nEach time his options disappear\\n\\n[Chorus]\\nJust a shaking hand without a concrete plan\\nJust a shaking hand without a concrete plan\\nI’m a shaking hand without a plan\\nDoo doo doo doo, doo doo doo\\nDoo doo doo doo, doo doo doo\\nDoo doo doo doo, doo doo doo\\nDoo doo doo doo, doo doo doo\\nSponsored by Yahoo Search\\nWho Has The Best High Yield Savings Accounts?\\nSEE MORE\\n\\n[Outro]\\nDoo doo doo doo, doo doo doo\\nDoo doo doo doo, doo doo doo\\nDoo doo doo doo, doo doo doo\\nDoo doo doo doo, doo doo doo'"
      ]
     },
     "execution_count": 11,
     "metadata": {},
     "output_type": "execute_result"
    }
   ],
   "source": [
    "find_lyrics(driver, song_path)"
   ]
  },
  {
   "cell_type": "code",
   "execution_count": null,
   "metadata": {},
   "outputs": [],
   "source": []
  }
 ],
 "metadata": {
  "kernelspec": {
   "display_name": "Python 3",
   "language": "python",
   "name": "python3"
  },
  "language_info": {
   "codemirror_mode": {
    "name": "ipython",
    "version": 3
   },
   "file_extension": ".py",
   "mimetype": "text/x-python",
   "name": "python",
   "nbconvert_exporter": "python",
   "pygments_lexer": "ipython3",
   "version": "3.7.3"
  }
 },
 "nbformat": 4,
 "nbformat_minor": 4
}
