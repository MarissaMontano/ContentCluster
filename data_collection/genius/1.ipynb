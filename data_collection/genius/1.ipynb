{
 "cells": [
  {
   "cell_type": "code",
   "execution_count": 1,
   "metadata": {},
   "outputs": [],
   "source": [
    "import lyricsgenius\n",
    "import requests\n",
    "import pandas as pd\n",
    "import json"
   ]
  },
  {
   "cell_type": "code",
   "execution_count": 2,
   "metadata": {},
   "outputs": [],
   "source": [
    "token = \"vZ9bHorgfhNKAz-ititejkA9yX0uKIGw1Fb85GAjPEVt-suKfl8w0q7snt5BWGkt\"\n"
   ]
  },
  {
   "cell_type": "markdown",
   "metadata": {},
   "source": [
    "## Functions"
   ]
  },
  {
   "cell_type": "code",
   "execution_count": 3,
   "metadata": {},
   "outputs": [],
   "source": [
    "def request_song_info(song_title, artist_name, token):\n",
    "    base_url = 'https://api.genius.com'\n",
    "    headers = {'Authorization': 'Bearer ' + token}\n",
    "    search_url = base_url + '/search'\n",
    "    data = {'q': song_title + ' ' + artist_name}\n",
    "    response = requests.get(search_url, data=data, headers=headers)\n",
    "\n",
    "    return response\n",
    "\n",
    "def load_artists(path):\n",
    "    df = pd.DataFrame()\n",
    "    for i in range(1,5):\n",
    "        df = pd.concat([df, pd.read_csv(\"{}/artists_{}.csv\".format(path, i))])\n",
    "    \n",
    "    return df"
   ]
  },
  {
   "cell_type": "markdown",
   "metadata": {},
   "source": [
    "## Main"
   ]
  },
  {
   "cell_type": "code",
   "execution_count": 4,
   "metadata": {},
   "outputs": [],
   "source": [
    "df_artists = load_artists(\"datasets\").reset_index(drop=True)\n",
    "names = df_artists['name']"
   ]
  },
  {
   "cell_type": "code",
   "execution_count": 5,
   "metadata": {},
   "outputs": [],
   "source": [
    "data = {}"
   ]
  },
  {
   "cell_type": "code",
   "execution_count": null,
   "metadata": {
    "scrolled": true
   },
   "outputs": [
    {
     "name": "stdout",
     "output_type": "stream",
     "text": [
      "0  Adele \n",
      "1  Joey + Rory \n",
      "2  Draaco Aventura \n",
      "3  Justin Bieber \n",
      "4  Peer van Mladen \n",
      "5  Chris Janson \n",
      "6  One Direction \n",
      "7  Drake \n",
      "8  Carrie Underwood \n",
      "9  Ed Sheeran \n",
      "10  Taylor Swift \n",
      "11  SayWeCanFly \n",
      "12  Selena Gomez \n",
      "13  Chris Brown \n",
      "14  Nicki Minaj \n",
      "15  Fifth Harmony \n",
      "16  Thomas Rhett  \n",
      "17  Eminem \n",
      "18  Beyoncé \n",
      "19  Meghan Trainor \n",
      "20  Twenty One Pilots \n",
      "21  Fetty Wap \n",
      "22  5 Seconds Of Summer \n",
      "23  Jason Aldean \n",
      "24  Luke Bryan \n",
      "25  Blake Shelton \n",
      "26  Rihanna \n",
      "27  Elvis Presley \n",
      "28  Ariana Grande \n",
      "29  JD Shelburne \n",
      "30  Lil Wayne \n",
      "31  Demi Lovato \n",
      "32  Maroon 5 \n",
      "33  Sam Hunt \n",
      "34  George Strait \n",
      "35  Wiz Khalifa \n",
      "36  Miranda Lambert \n",
      "37  DJ Khaled \n",
      "38  Porno for Pyros \n",
      "39  Katy Perry \n",
      "40  Miley Cyrus \n",
      "41  Tim McGraw \n",
      "42  The Weeknd \n",
      "43  Macklemore & Ryan Lewis \n",
      "44  Ellie Goulding \n",
      "45  Michael Jackson \n",
      "46  Rascal Flatts \n",
      "47  Britney Spears \n",
      "48  Zac Brown Band \n",
      "49  Hearty2Raw \n",
      "50  Future \n",
      "51  Lady Antebellum \n",
      "52  Adam Levine \n",
      "53  Janet Jackson \n",
      "54  Keith Urban \n",
      "55  Sam Smith \n",
      "56  Jason Derulo \n",
      "57  Tori Kelly \n",
      "58  2Pac \n",
      "59  Ciara \n",
      "60  Old Dominion \n",
      "61  Randy Houser \n",
      "62  Eric Church \n",
      "63  Shakira \n",
      "64  Bruno Mars \n",
      "65  Little Big Town \n",
      "66  Rick Ross \n",
      "67  Toby Keith \n",
      "68  Brian Collins \n",
      "69  Sia \n",
      "70  Dixie Chicks \n",
      "71  Kanye West \n",
      "72  Shania Twain \n",
      "73  Enrique Iglesias \n",
      "74  The Band Perry \n",
      "75  Kellie Pickler \n",
      "76  Randy Owen \n",
      "77  Kelsea Ballerini \n",
      "78  Lana Del Rey \n",
      "79  Freddie Mercury \n",
      "80  Martin Garrix \n",
      "81  Brett Eldredge \n",
      "82  Trey Songz \n",
      "83  Young Thug \n",
      "84  Mariah Carey \n",
      "85  Jennifer Lopez \n",
      "86  Shawn Mendes \n",
      "87  Halsey \n",
      "88  The XX \n",
      "89  Kurt Stevens \n",
      "90  R. Kelly \n",
      "91  50 Cent \n"
     ]
    }
   ],
   "source": [
    "index = 0\n",
    "for n in names:\n",
    "    try:\n",
    "        data[n] = {}\n",
    "        request = request_song_info(\"\", n, token)\n",
    "        songs = request.json()['response']['hits']\n",
    "        for i in range(len(songs)):\n",
    "            result = songs[i]['result']\n",
    "            data[n][result['title']] = result['path']\n",
    "    except:\n",
    "        pass\n",
    "    \n",
    "    print(index, n)\n",
    "    index += 1"
   ]
  },
  {
   "cell_type": "code",
   "execution_count": null,
   "metadata": {},
   "outputs": [],
   "source": [
    "with open(\"song_titles.json\", \"w\") as f:\n",
    "    json.dump(data, f)"
   ]
  },
  {
   "cell_type": "code",
   "execution_count": null,
   "metadata": {},
   "outputs": [],
   "source": []
  }
 ],
 "metadata": {
  "kernelspec": {
   "display_name": "Python 3",
   "language": "python",
   "name": "python3"
  },
  "language_info": {
   "codemirror_mode": {
    "name": "ipython",
    "version": 3
   },
   "file_extension": ".py",
   "mimetype": "text/x-python",
   "name": "python",
   "nbconvert_exporter": "python",
   "pygments_lexer": "ipython3",
   "version": "3.7.3"
  }
 },
 "nbformat": 4,
 "nbformat_minor": 4
}
